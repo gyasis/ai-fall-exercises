{
 "cells": [
  {
   "cell_type": "markdown",
   "metadata": {},
   "source": [
    "Here you have a collection of guided exercises for the first class on Python. <br>\n",
    "The exercises are divided by topic, following the topics reviewed during the theory session, and for each topic you have some mandatory exercises, and other optional exercises, which you are invited to do if you still have time after the mandatory exercises. <br>\n",
    "\n",
    "Remember that you have 5 hours to solve these exercises, after which we will review the most interesting exercises together. If you don't finish all the exercises, you can work on them tonightor tomorrow. \n",
    "\n",
    "At the end of the class, we will upload the code with the solutions of the exercises so that you can review them again if needed. If you still have not finished some exercises, try to do them first by yourself, before taking a look at the solutions: you are doing these exercises for yourself, so it is always the best to do them your way first, as it is the fastest way to learn!"
   ]
  },
  {
   "cell_type": "markdown",
   "metadata": {},
   "source": [
    "**Exercise 1.3 (🌶️):** You look at the clock and see that it is currently 14.00h. You set an alarm to go off 535 hours later. At what time will the alarm go off? Write a program that prints the answer. Hint: for the best solution, you will need the modulo operator. Second hint: The answer is 21.00h, but of course, this exercise is not about the answer, but about how you get it."
   ]
  },
  {
   "cell_type": "code",
   "execution_count": 24,
   "metadata": {},
   "outputs": [
    {
     "output_type": "stream",
     "name": "stdout",
     "text": [
      "time in hours\n",
      "enter hours passed\n",
      "21 .00h\n"
     ]
    }
   ],
   "source": [
    "#Your Code Here\n",
    "#import re\n",
    "print(\"time in hours\")\n",
    "int_time = 0\n",
    "int_time = int(input())\n",
    "print('enter hours passed')\n",
    "totalhours = 0\n",
    "totalhours = int(input())\n",
    "\n",
    "timeadded = 0\n",
    "timeadded = totalhours%24\n",
    "print(int_time + timeadded,\".00h\")\n"
   ]
  },
  {
   "cell_type": "markdown",
   "metadata": {},
   "source": [
    "**Exercise 5.4 (🌶️):** \"99 bottles of beer\" is a traditional song in the United States and Canada. It is popular to sing on long trips, as it has a very repetitive format which is easy to memorize, and can take a long time to sing. The song's simple lyrics are as follows: \"99 bottles of beer on the wall, 99 bottles of beer. Take one down, pass it around, 98 bottles of beer on the wall.\" The same verse is repeated, each time with one fewer bottle. The song is completed when the singer or singers reach zero. Write a function that generates and prints all the verses of the song (though you might start a bit lower, for instance with 10 bottles). Make sure that your loop is not endless, and that you use the proper inflection for the word \"bottle\"."
   ]
  },
  {
   "cell_type": "code",
   "execution_count": 23,
   "metadata": {},
   "outputs": [
    {
     "output_type": "stream",
     "name": "stdout",
     "text": [
      "25 bottles of beer on the wall 25 bottles of beer. Take one down, pass it around, 24 bottles of beer in the wall\n24 bottles of beer on the wall 24 bottles of beer. Take one down, pass it around, 23 bottles of beer in the wall\n23 bottles of beer on the wall 23 bottles of beer. Take one down, pass it around, 22 bottles of beer in the wall\n22 bottles of beer on the wall 22 bottles of beer. Take one down, pass it around, 21 bottles of beer in the wall\n21 bottles of beer on the wall 21 bottles of beer. Take one down, pass it around, 20 bottles of beer in the wall\n20 bottles of beer on the wall 20 bottles of beer. Take one down, pass it around, 19 bottles of beer in the wall\n19 bottles of beer on the wall 19 bottles of beer. Take one down, pass it around, 18 bottles of beer in the wall\n18 bottles of beer on the wall 18 bottles of beer. Take one down, pass it around, 17 bottles of beer in the wall\n17 bottles of beer on the wall 17 bottles of beer. Take one down, pass it around, 16 bottles of beer in the wall\n16 bottles of beer on the wall 16 bottles of beer. Take one down, pass it around, 15 bottles of beer in the wall\n15 bottles of beer on the wall 15 bottles of beer. Take one down, pass it around, 14 bottles of beer in the wall\n14 bottles of beer on the wall 14 bottles of beer. Take one down, pass it around, 13 bottles of beer in the wall\n13 bottles of beer on the wall 13 bottles of beer. Take one down, pass it around, 12 bottles of beer in the wall\n12 bottles of beer on the wall 12 bottles of beer. Take one down, pass it around, 11 bottles of beer in the wall\n11 bottles of beer on the wall 11 bottles of beer. Take one down, pass it around, 10 bottles of beer in the wall\n10 bottles of beer on the wall 10 bottles of beer. Take one down, pass it around, 9 bottles of beer in the wall\n9 bottles of beer on the wall 9 bottles of beer. Take one down, pass it around, 8 bottles of beer in the wall\n8 bottles of beer on the wall 8 bottles of beer. Take one down, pass it around, 7 bottles of beer in the wall\n7 bottles of beer on the wall 7 bottles of beer. Take one down, pass it around, 6 bottles of beer in the wall\n6 bottles of beer on the wall 6 bottles of beer. Take one down, pass it around, 5 bottles of beer in the wall\n5 bottles of beer on the wall 5 bottles of beer. Take one down, pass it around, 4 bottles of beer in the wall\n4 bottles of beer on the wall 4 bottles of beer. Take one down, pass it around, 3 bottles of beer in the wall\n3 bottles of beer on the wall 3 bottles of beer. Take one down, pass it around, 2 bottles of beer in the wall\n2 bottles of beer on the wall 2 bottles of beer. Take one down, pass it around, 1 bottles of beer in the wall\n1 bottles of beer on the wall 1 bottles of beer. Take one down, pass it around, 0 bottles of beer in the wall\n"
     ]
    }
   ],
   "source": [
    "#Your Code Here\n",
    "def beersong():\n",
    "    \"\"\"\n",
    "    5 bottles of beer on the wall, 5 bottles of beer. Take one down, pass it around, 4 bottles of beer in the wall\n",
    "    4 bottles of beer on the wall, 4 bottles of beer. Take one down, pass it around, 3 bottles of beer in the wall\n",
    "    3 bottles of beer on the wall, 3 bottles of beer. Take one down, pass it around, 2 bottles of beer in the wall\n",
    "    2 bottles of beer on the wall, 2 bottles of beer. Take one down, pass it around, 1 bottle of beer in the wall\n",
    "    1 bottle of beer on the wall, 1 bottle of beer. Take one down, pass it around, 0 bottles of beer in the wall\n",
    "    \"\"\"\n",
    " # Beer song\n",
    "\n",
    "numberofbottles = int(input('enter a number of bottles of beer to start'))\n",
    "\n",
    "def singing():\n",
    "    for i in range(numberofbottles, -1 , -1):\n",
    "        if i >= 1:\n",
    "            print(i,'bottles of beer on the wall'\n",
    "            , i, 'bottles of beer. Take one down, pass it around,',(i - 1), 'bottles of beer in the wall')\n",
    "\n",
    "singing()\n",
    "\n"
   ]
  },
  {
   "cell_type": "markdown",
   "metadata": {},
   "source": [
    "**Exercise 5.5 (🌶️):** The Fibonacci sequence is a sequence of numbers that starts with 1, followed by 1 again. Every next number is the sum of the two previous numbers. I.e., the sequence starts with 1, 1, 2, 3, 5, 8, 13, 21,... Write a function that calculates and prints the Fibonacci sequence until the numbers get higher than a `maximum`."
   ]
  },
  {
   "cell_type": "code",
   "execution_count": 22,
   "metadata": {},
   "outputs": [
    {
     "output_type": "stream",
     "name": "stdout",
     "text": [
      "0\n1\n1\n2\n3\n5\n8\n13\n21\n34\n55\n89\n144\n233\n377\n610\n987\n1597\n2584\n4181\n6765\n10946\n17711\n28657\n46368\n75025\n121393\n196418\n317811\n514229\n832040\n1346269\n2178309\n3524578\n5702887\n9227465\n14930352\n24157817\n39088169\n63245986\n102334155\n165580141\n267914296\n433494437\n701408733\n1134903170\n1836311903\n2971215073\n4807526976\n7778742049\n12586269025\n20365011074\n32951280099\n53316291173\n86267571272\n139583862445\n"
     ]
    }
   ],
   "source": [
    "#Your Code Here\n",
    "def fibonacci():\n",
    "    \"\"\"\n",
    "    Fibonacci sequence up to 22 :\n",
    "    0 , 1 , 1 , 2 , 3 , 5 , 8 , 13 , 21\n",
    "    \"\"\"\n",
    " # Fibonacci\n",
    "\n",
    "fibstart = int(input('enter max number'))\n",
    "\n",
    "def fibonacci():\n",
    "    n1 = 0\n",
    "    n2 = 1\n",
    "    count = 0\n",
    "    while count < fibstart:\n",
    "       print(n1),\n",
    "       nth = n1 + n2\n",
    "       # update values\n",
    "       n1 = n2\n",
    "       n2 = nth\n",
    "       count += 1\n",
    "\n",
    "fibonacci()\n"
   ]
  },
  {
   "cell_type": "markdown",
   "metadata": {},
   "source": [
    "**Exercise 5.8 (🌶️):** A, B, C, and D are all different digits. The number DCBA is equal to 4 times the number ABCD. What are the digits? Note: to make ABCD and DCBA conventional numbers, neither A nor D can be zero. Use a quadruple-nested loop."
   ]
  },
  {
   "cell_type": "code",
   "execution_count": 21,
   "metadata": {},
   "outputs": [
    {
     "output_type": "stream",
     "name": "stdout",
     "text": [
      "A is 2\nB is 1\nC is 7\nD is 8\n"
     ]
    }
   ],
   "source": [
    "#Your Code Here\n",
    "# Solve 4*ABCD == DCBA \n",
    "# \n",
    "# #A = 2\n",
    "    #B = 1\n",
    "    #C = 7\n",
    "    #D = 8\n",
    "A = 1\n",
    "B = 0\n",
    "C = 0\n",
    "D = 1   \n",
    "def nested_nest():\n",
    "  for A in range(1,9):\n",
    "    for B in range(0,9):\n",
    "        for C in range(0,9):\n",
    "            for D in range(1,9):\n",
    "\n",
    "                firstnumber = str(A)+str(B)+str(C)+str(D)\n",
    "                secondnumber = str(D)+str(C)+str(B)+str(A)\n",
    "\n",
    "                truefirst = int(firstnumber)\n",
    "                truesecond = int(secondnumber)\n",
    "\n",
    "                if 4 * truefirst == truesecond:\n",
    "                    print(\"A is\",A)\n",
    "                    print(\"B is\",B)\n",
    "                    print(\"C is\",C)\n",
    "                    print(\"D is\",D)\n",
    "    \n",
    "\n",
    "nested_nest();\n",
    "    "
   ]
  },
  {
   "cell_type": "code",
   "execution_count": null,
   "metadata": {},
   "outputs": [],
   "source": []
  }
 ],
 "metadata": {
  "kernelspec": {
   "display_name": "Python 3",
   "language": "python",
   "name": "python3"
  },
  "language_info": {
   "codemirror_mode": {
    "name": "ipython",
    "version": 3
   },
   "file_extension": ".py",
   "mimetype": "text/x-python",
   "name": "python",
   "nbconvert_exporter": "python",
   "pygments_lexer": "ipython3",
   "version": "3.7.9-final"
  }
 },
 "nbformat": 4,
 "nbformat_minor": 4
}